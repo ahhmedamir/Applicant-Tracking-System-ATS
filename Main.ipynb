{
  "cells": [
    {
      "cell_type": "code",
      "execution_count": 1,
      "metadata": {
        "colab": {
          "base_uri": "https://localhost:8080/"
        },
        "id": "onyYCDTIVSwd",
        "outputId": "bb3dab47-fad5-4584-8c93-76a8505c442c"
      },
      "outputs": [
        {
          "name": "stdout",
          "output_type": "stream",
          "text": [
            "Requirement already satisfied: spacy in /opt/homebrew/lib/python3.11/site-packages (3.7.4)\n",
            "Requirement already satisfied: spacy-legacy<3.1.0,>=3.0.11 in /opt/homebrew/lib/python3.11/site-packages (from spacy) (3.0.12)\n",
            "Requirement already satisfied: spacy-loggers<2.0.0,>=1.0.0 in /opt/homebrew/lib/python3.11/site-packages (from spacy) (1.0.5)\n",
            "Requirement already satisfied: murmurhash<1.1.0,>=0.28.0 in /opt/homebrew/lib/python3.11/site-packages (from spacy) (1.0.10)\n",
            "Requirement already satisfied: cymem<2.1.0,>=2.0.2 in /opt/homebrew/lib/python3.11/site-packages (from spacy) (2.0.8)\n",
            "Requirement already satisfied: preshed<3.1.0,>=3.0.2 in /opt/homebrew/lib/python3.11/site-packages (from spacy) (3.0.9)\n",
            "Requirement already satisfied: thinc<8.3.0,>=8.2.2 in /opt/homebrew/lib/python3.11/site-packages (from spacy) (8.2.3)\n",
            "Requirement already satisfied: wasabi<1.2.0,>=0.9.1 in /opt/homebrew/lib/python3.11/site-packages (from spacy) (1.1.2)\n",
            "Requirement already satisfied: srsly<3.0.0,>=2.4.3 in /opt/homebrew/lib/python3.11/site-packages (from spacy) (2.4.8)\n",
            "Requirement already satisfied: catalogue<2.1.0,>=2.0.6 in /opt/homebrew/lib/python3.11/site-packages (from spacy) (2.0.10)\n",
            "Requirement already satisfied: weasel<0.4.0,>=0.1.0 in /opt/homebrew/lib/python3.11/site-packages (from spacy) (0.3.4)\n",
            "Requirement already satisfied: typer<0.10.0,>=0.3.0 in /opt/homebrew/lib/python3.11/site-packages (from spacy) (0.9.4)\n",
            "Requirement already satisfied: smart-open<7.0.0,>=5.2.1 in /opt/homebrew/lib/python3.11/site-packages (from spacy) (6.4.0)\n",
            "Requirement already satisfied: tqdm<5.0.0,>=4.38.0 in /opt/homebrew/lib/python3.11/site-packages (from spacy) (4.66.1)\n",
            "Requirement already satisfied: requests<3.0.0,>=2.13.0 in /opt/homebrew/lib/python3.11/site-packages (from spacy) (2.31.0)\n",
            "Requirement already satisfied: pydantic!=1.8,!=1.8.1,<3.0.0,>=1.7.4 in /opt/homebrew/lib/python3.11/site-packages (from spacy) (2.7.1)\n",
            "Requirement already satisfied: jinja2 in /opt/homebrew/lib/python3.11/site-packages (from spacy) (3.1.2)\n",
            "Requirement already satisfied: setuptools in /opt/homebrew/lib/python3.11/site-packages (from spacy) (68.2.2)\n",
            "Requirement already satisfied: packaging>=20.0 in /opt/homebrew/lib/python3.11/site-packages (from spacy) (23.2)\n",
            "Requirement already satisfied: langcodes<4.0.0,>=3.2.0 in /opt/homebrew/lib/python3.11/site-packages (from spacy) (3.4.0)\n",
            "Requirement already satisfied: numpy>=1.19.0 in /opt/homebrew/lib/python3.11/site-packages (from spacy) (1.26.1)\n",
            "Requirement already satisfied: language-data>=1.2 in /opt/homebrew/lib/python3.11/site-packages (from langcodes<4.0.0,>=3.2.0->spacy) (1.2.0)\n",
            "Requirement already satisfied: annotated-types>=0.4.0 in /opt/homebrew/lib/python3.11/site-packages (from pydantic!=1.8,!=1.8.1,<3.0.0,>=1.7.4->spacy) (0.7.0)\n",
            "Requirement already satisfied: pydantic-core==2.18.2 in /opt/homebrew/lib/python3.11/site-packages (from pydantic!=1.8,!=1.8.1,<3.0.0,>=1.7.4->spacy) (2.18.2)\n",
            "Requirement already satisfied: typing-extensions>=4.6.1 in /opt/homebrew/lib/python3.11/site-packages (from pydantic!=1.8,!=1.8.1,<3.0.0,>=1.7.4->spacy) (4.8.0)\n",
            "Requirement already satisfied: charset-normalizer<4,>=2 in /opt/homebrew/lib/python3.11/site-packages (from requests<3.0.0,>=2.13.0->spacy) (3.3.0)\n",
            "Requirement already satisfied: idna<4,>=2.5 in /opt/homebrew/lib/python3.11/site-packages (from requests<3.0.0,>=2.13.0->spacy) (2.10)\n",
            "Requirement already satisfied: urllib3<3,>=1.21.1 in /opt/homebrew/lib/python3.11/site-packages (from requests<3.0.0,>=2.13.0->spacy) (2.0.6)\n",
            "Requirement already satisfied: certifi>=2017.4.17 in /opt/homebrew/lib/python3.11/site-packages (from requests<3.0.0,>=2.13.0->spacy) (2023.7.22)\n",
            "Requirement already satisfied: blis<0.8.0,>=0.7.8 in /opt/homebrew/lib/python3.11/site-packages (from thinc<8.3.0,>=8.2.2->spacy) (0.7.11)\n",
            "Requirement already satisfied: confection<1.0.0,>=0.0.1 in /opt/homebrew/lib/python3.11/site-packages (from thinc<8.3.0,>=8.2.2->spacy) (0.1.4)\n",
            "Requirement already satisfied: click<9.0.0,>=7.1.1 in /opt/homebrew/lib/python3.11/site-packages (from typer<0.10.0,>=0.3.0->spacy) (8.1.7)\n",
            "Requirement already satisfied: cloudpathlib<0.17.0,>=0.7.0 in /opt/homebrew/lib/python3.11/site-packages (from weasel<0.4.0,>=0.1.0->spacy) (0.16.0)\n",
            "Requirement already satisfied: MarkupSafe>=2.0 in /opt/homebrew/lib/python3.11/site-packages (from jinja2->spacy) (2.1.3)\n",
            "Requirement already satisfied: marisa-trie>=0.7.7 in /opt/homebrew/lib/python3.11/site-packages (from language-data>=1.2->langcodes<4.0.0,>=3.2.0->spacy) (1.1.1)\n",
            "Note: you may need to restart the kernel to use updated packages.\n"
          ]
        }
      ],
      "source": [
        "%pip install -U spacy"
      ]
    },
    {
      "cell_type": "code",
      "execution_count": 2,
      "metadata": {
        "colab": {
          "base_uri": "https://localhost:8080/"
        },
        "id": "Bqhtf-MEbV2D",
        "outputId": "59cf3c84-4bbd-464c-8c05-21f4134d2ec0"
      },
      "outputs": [
        {
          "name": "stdout",
          "output_type": "stream",
          "text": [
            "Requirement already satisfied: PyMuPDF in /opt/homebrew/lib/python3.11/site-packages (1.24.4)\n",
            "Requirement already satisfied: PyMuPDFb==1.24.3 in /opt/homebrew/lib/python3.11/site-packages (from PyMuPDF) (1.24.3)\n",
            "Note: you may need to restart the kernel to use updated packages.\n"
          ]
        }
      ],
      "source": [
        "%pip install PyMuPDF"
      ]
    },
    {
      "cell_type": "code",
      "execution_count": 3,
      "metadata": {
        "colab": {
          "base_uri": "https://localhost:8080/"
        },
        "id": "kd-npwmbb45B",
        "outputId": "460afdb4-763e-4ec9-9456-5a5bede973f4"
      },
      "outputs": [
        {
          "name": "stdout",
          "output_type": "stream",
          "text": [
            "Collecting en-pipeline==any\n",
            "  Downloading https://huggingface.co/prof144/en_pipeline/resolve/main/en_pipeline-any-py3-none-any.whl (436.5 MB)\n",
            "\u001b[2K     \u001b[90m━━━━━━━━━━━━━━━━━━━━━━━━━━━━━━━━━━━━━━━\u001b[0m \u001b[32m436.5/436.5 MB\u001b[0m \u001b[31m1.1 MB/s\u001b[0m eta \u001b[36m0:00:00\u001b[0m00:01\u001b[0m00:10\u001b[0m\n",
            "\u001b[?25hRequirement already satisfied: spacy<3.8.0,>=3.7.4 in /opt/homebrew/lib/python3.11/site-packages (from en-pipeline==any) (3.7.4)\n",
            "Requirement already satisfied: spacy-transformers<1.4.0,>=1.3.5 in /opt/homebrew/lib/python3.11/site-packages (from en-pipeline==any) (1.3.5)\n",
            "Requirement already satisfied: spacy-legacy<3.1.0,>=3.0.11 in /opt/homebrew/lib/python3.11/site-packages (from spacy<3.8.0,>=3.7.4->en-pipeline==any) (3.0.12)\n",
            "Requirement already satisfied: spacy-loggers<2.0.0,>=1.0.0 in /opt/homebrew/lib/python3.11/site-packages (from spacy<3.8.0,>=3.7.4->en-pipeline==any) (1.0.5)\n",
            "Requirement already satisfied: murmurhash<1.1.0,>=0.28.0 in /opt/homebrew/lib/python3.11/site-packages (from spacy<3.8.0,>=3.7.4->en-pipeline==any) (1.0.10)\n",
            "Requirement already satisfied: cymem<2.1.0,>=2.0.2 in /opt/homebrew/lib/python3.11/site-packages (from spacy<3.8.0,>=3.7.4->en-pipeline==any) (2.0.8)\n",
            "Requirement already satisfied: preshed<3.1.0,>=3.0.2 in /opt/homebrew/lib/python3.11/site-packages (from spacy<3.8.0,>=3.7.4->en-pipeline==any) (3.0.9)\n",
            "Requirement already satisfied: thinc<8.3.0,>=8.2.2 in /opt/homebrew/lib/python3.11/site-packages (from spacy<3.8.0,>=3.7.4->en-pipeline==any) (8.2.3)\n",
            "Requirement already satisfied: wasabi<1.2.0,>=0.9.1 in /opt/homebrew/lib/python3.11/site-packages (from spacy<3.8.0,>=3.7.4->en-pipeline==any) (1.1.2)\n",
            "Requirement already satisfied: srsly<3.0.0,>=2.4.3 in /opt/homebrew/lib/python3.11/site-packages (from spacy<3.8.0,>=3.7.4->en-pipeline==any) (2.4.8)\n",
            "Requirement already satisfied: catalogue<2.1.0,>=2.0.6 in /opt/homebrew/lib/python3.11/site-packages (from spacy<3.8.0,>=3.7.4->en-pipeline==any) (2.0.10)\n",
            "Requirement already satisfied: weasel<0.4.0,>=0.1.0 in /opt/homebrew/lib/python3.11/site-packages (from spacy<3.8.0,>=3.7.4->en-pipeline==any) (0.3.4)\n",
            "Requirement already satisfied: typer<0.10.0,>=0.3.0 in /opt/homebrew/lib/python3.11/site-packages (from spacy<3.8.0,>=3.7.4->en-pipeline==any) (0.9.4)\n",
            "Requirement already satisfied: smart-open<7.0.0,>=5.2.1 in /opt/homebrew/lib/python3.11/site-packages (from spacy<3.8.0,>=3.7.4->en-pipeline==any) (6.4.0)\n",
            "Requirement already satisfied: tqdm<5.0.0,>=4.38.0 in /opt/homebrew/lib/python3.11/site-packages (from spacy<3.8.0,>=3.7.4->en-pipeline==any) (4.66.1)\n",
            "Requirement already satisfied: requests<3.0.0,>=2.13.0 in /opt/homebrew/lib/python3.11/site-packages (from spacy<3.8.0,>=3.7.4->en-pipeline==any) (2.31.0)\n",
            "Requirement already satisfied: pydantic!=1.8,!=1.8.1,<3.0.0,>=1.7.4 in /opt/homebrew/lib/python3.11/site-packages (from spacy<3.8.0,>=3.7.4->en-pipeline==any) (2.7.1)\n",
            "Requirement already satisfied: jinja2 in /opt/homebrew/lib/python3.11/site-packages (from spacy<3.8.0,>=3.7.4->en-pipeline==any) (3.1.2)\n",
            "Requirement already satisfied: setuptools in /opt/homebrew/lib/python3.11/site-packages (from spacy<3.8.0,>=3.7.4->en-pipeline==any) (68.2.2)\n",
            "Requirement already satisfied: packaging>=20.0 in /opt/homebrew/lib/python3.11/site-packages (from spacy<3.8.0,>=3.7.4->en-pipeline==any) (23.2)\n",
            "Requirement already satisfied: langcodes<4.0.0,>=3.2.0 in /opt/homebrew/lib/python3.11/site-packages (from spacy<3.8.0,>=3.7.4->en-pipeline==any) (3.4.0)\n",
            "Requirement already satisfied: numpy>=1.19.0 in /opt/homebrew/lib/python3.11/site-packages (from spacy<3.8.0,>=3.7.4->en-pipeline==any) (1.26.1)\n",
            "Requirement already satisfied: transformers<4.37.0,>=3.4.0 in /opt/homebrew/lib/python3.11/site-packages (from spacy-transformers<1.4.0,>=1.3.5->en-pipeline==any) (4.36.2)\n",
            "Requirement already satisfied: torch>=1.8.0 in /opt/homebrew/lib/python3.11/site-packages (from spacy-transformers<1.4.0,>=1.3.5->en-pipeline==any) (2.1.0)\n",
            "Requirement already satisfied: spacy-alignments<1.0.0,>=0.7.2 in /opt/homebrew/lib/python3.11/site-packages (from spacy-transformers<1.4.0,>=1.3.5->en-pipeline==any) (0.9.1)\n",
            "Requirement already satisfied: language-data>=1.2 in /opt/homebrew/lib/python3.11/site-packages (from langcodes<4.0.0,>=3.2.0->spacy<3.8.0,>=3.7.4->en-pipeline==any) (1.2.0)\n",
            "Requirement already satisfied: annotated-types>=0.4.0 in /opt/homebrew/lib/python3.11/site-packages (from pydantic!=1.8,!=1.8.1,<3.0.0,>=1.7.4->spacy<3.8.0,>=3.7.4->en-pipeline==any) (0.7.0)\n",
            "Requirement already satisfied: pydantic-core==2.18.2 in /opt/homebrew/lib/python3.11/site-packages (from pydantic!=1.8,!=1.8.1,<3.0.0,>=1.7.4->spacy<3.8.0,>=3.7.4->en-pipeline==any) (2.18.2)\n",
            "Requirement already satisfied: typing-extensions>=4.6.1 in /opt/homebrew/lib/python3.11/site-packages (from pydantic!=1.8,!=1.8.1,<3.0.0,>=1.7.4->spacy<3.8.0,>=3.7.4->en-pipeline==any) (4.8.0)\n",
            "Requirement already satisfied: charset-normalizer<4,>=2 in /opt/homebrew/lib/python3.11/site-packages (from requests<3.0.0,>=2.13.0->spacy<3.8.0,>=3.7.4->en-pipeline==any) (3.3.0)\n",
            "Requirement already satisfied: idna<4,>=2.5 in /opt/homebrew/lib/python3.11/site-packages (from requests<3.0.0,>=2.13.0->spacy<3.8.0,>=3.7.4->en-pipeline==any) (2.10)\n",
            "Requirement already satisfied: urllib3<3,>=1.21.1 in /opt/homebrew/lib/python3.11/site-packages (from requests<3.0.0,>=2.13.0->spacy<3.8.0,>=3.7.4->en-pipeline==any) (2.0.6)\n",
            "Requirement already satisfied: certifi>=2017.4.17 in /opt/homebrew/lib/python3.11/site-packages (from requests<3.0.0,>=2.13.0->spacy<3.8.0,>=3.7.4->en-pipeline==any) (2023.7.22)\n",
            "Requirement already satisfied: blis<0.8.0,>=0.7.8 in /opt/homebrew/lib/python3.11/site-packages (from thinc<8.3.0,>=8.2.2->spacy<3.8.0,>=3.7.4->en-pipeline==any) (0.7.11)\n",
            "Requirement already satisfied: confection<1.0.0,>=0.0.1 in /opt/homebrew/lib/python3.11/site-packages (from thinc<8.3.0,>=8.2.2->spacy<3.8.0,>=3.7.4->en-pipeline==any) (0.1.4)\n",
            "Requirement already satisfied: filelock in /opt/homebrew/lib/python3.11/site-packages (from torch>=1.8.0->spacy-transformers<1.4.0,>=1.3.5->en-pipeline==any) (3.12.4)\n",
            "Requirement already satisfied: sympy in /opt/homebrew/lib/python3.11/site-packages (from torch>=1.8.0->spacy-transformers<1.4.0,>=1.3.5->en-pipeline==any) (1.12)\n",
            "Requirement already satisfied: networkx in /opt/homebrew/lib/python3.11/site-packages (from torch>=1.8.0->spacy-transformers<1.4.0,>=1.3.5->en-pipeline==any) (3.1)\n",
            "Requirement already satisfied: fsspec in /opt/homebrew/lib/python3.11/site-packages (from torch>=1.8.0->spacy-transformers<1.4.0,>=1.3.5->en-pipeline==any) (2023.9.2)\n",
            "Requirement already satisfied: huggingface-hub<1.0,>=0.19.3 in /opt/homebrew/lib/python3.11/site-packages (from transformers<4.37.0,>=3.4.0->spacy-transformers<1.4.0,>=1.3.5->en-pipeline==any) (0.23.1)\n",
            "Requirement already satisfied: pyyaml>=5.1 in /opt/homebrew/lib/python3.11/site-packages (from transformers<4.37.0,>=3.4.0->spacy-transformers<1.4.0,>=1.3.5->en-pipeline==any) (6.0.1)\n",
            "Requirement already satisfied: regex!=2019.12.17 in /opt/homebrew/lib/python3.11/site-packages (from transformers<4.37.0,>=3.4.0->spacy-transformers<1.4.0,>=1.3.5->en-pipeline==any) (2024.5.15)\n",
            "Requirement already satisfied: tokenizers<0.19,>=0.14 in /opt/homebrew/lib/python3.11/site-packages (from transformers<4.37.0,>=3.4.0->spacy-transformers<1.4.0,>=1.3.5->en-pipeline==any) (0.15.2)\n",
            "Requirement already satisfied: safetensors>=0.3.1 in /opt/homebrew/lib/python3.11/site-packages (from transformers<4.37.0,>=3.4.0->spacy-transformers<1.4.0,>=1.3.5->en-pipeline==any) (0.4.3)\n",
            "Requirement already satisfied: click<9.0.0,>=7.1.1 in /opt/homebrew/lib/python3.11/site-packages (from typer<0.10.0,>=0.3.0->spacy<3.8.0,>=3.7.4->en-pipeline==any) (8.1.7)\n",
            "Requirement already satisfied: cloudpathlib<0.17.0,>=0.7.0 in /opt/homebrew/lib/python3.11/site-packages (from weasel<0.4.0,>=0.1.0->spacy<3.8.0,>=3.7.4->en-pipeline==any) (0.16.0)\n",
            "Requirement already satisfied: MarkupSafe>=2.0 in /opt/homebrew/lib/python3.11/site-packages (from jinja2->spacy<3.8.0,>=3.7.4->en-pipeline==any) (2.1.3)\n",
            "Requirement already satisfied: marisa-trie>=0.7.7 in /opt/homebrew/lib/python3.11/site-packages (from language-data>=1.2->langcodes<4.0.0,>=3.2.0->spacy<3.8.0,>=3.7.4->en-pipeline==any) (1.1.1)\n",
            "Requirement already satisfied: mpmath>=0.19 in /opt/homebrew/lib/python3.11/site-packages (from sympy->torch>=1.8.0->spacy-transformers<1.4.0,>=1.3.5->en-pipeline==any) (1.3.0)\n",
            "Note: you may need to restart the kernel to use updated packages.\n"
          ]
        }
      ],
      "source": [
        "%pip install https://huggingface.co/prof144/en_pipeline/resolve/main/en_pipeline-any-py3-none-any.whl"
      ]
    },
    {
      "cell_type": "code",
      "execution_count": 4,
      "metadata": {
        "colab": {
          "base_uri": "https://localhost:8080/"
        },
        "id": "F7NO3c3ucCQs",
        "outputId": "79e913a9-8c88-48f4-dc96-1aaa75e24141"
      },
      "outputs": [],
      "source": [
        "# Using spacy.load().\n",
        "import spacy\n",
        "nlp = spacy.load(\"en_pipeline\")\n",
        "\n",
        "# Importing as module.\n",
        "#import en_pipeline\n",
        "#nlp = en_pipeline.load()\n"
      ]
    },
    {
      "cell_type": "code",
      "execution_count": 10,
      "metadata": {
        "id": "_H-ZAICfcNOG"
      },
      "outputs": [],
      "source": [
        "def parse_cv(Cv):\n",
        "  import sys ,fitz\n",
        "  doc=fitz.open(Cv)\n",
        "  text= ''\n",
        "  for page in doc:\n",
        "     text=text +str(page.get_text())\n",
        "\n",
        "  text =text.strip()\n",
        "  text=\"  \".join(text.split())\n",
        "\n",
        "  doc=nlp(text)\n",
        "  for ent in doc.ents:\n",
        "    Parse= print(ent.label_, \"    ->>>>>>\",ent.text)\n",
        "\n",
        "  return Parse"
      ]
    },
    {
      "cell_type": "code",
      "execution_count": 11,
      "metadata": {
        "colab": {
          "base_uri": "https://localhost:8080/"
        },
        "id": "89w_G-4ocPPT",
        "outputId": "814b8f5b-743e-412e-964e-95c9a26aa41a"
      },
      "outputs": [
        {
          "name": "stdout",
          "output_type": "stream",
          "text": [
            "Name     ->>>>>> Alice  \n",
            "Companies worked at     ->>>>>> Clark\n",
            "Designation     ->>>>>> AI  /  Machine  Learning\n",
            "Location     ->>>>>> Delhi\n",
            "Years of Experience     ->>>>>> 20+  \n",
            "Designation     ->>>>>> Software  Engineer\n",
            "Companies worked at     ->>>>>> Microsoft\n",
            "Companies worked at     ->>>>>> Microsoft\n",
            "Companies worked at     ->>>>>> Microsoft\n",
            "Companies worked at     ->>>>>> Microsoft\n",
            "Companies worked at     ->>>>>> Microsoft\n",
            "College Name     ->>>>>> Indian  Institute  of  Technology\n",
            "Graduation Year     ->>>>>> 2001\n",
            "Skills     ->>>>>> Machine  Learning,  Natural  Language  Processing,  and  Big  Data  Handling\n"
          ]
        }
      ],
      "source": [
        "x=parse_cv(\"/Users/slash/Desktop/ATS project Code/Alice_Clark_CV.pdf\")"
      ]
    },
    {
      "cell_type": "code",
      "execution_count": 12,
      "metadata": {
        "colab": {
          "base_uri": "https://localhost:8080/"
        },
        "id": "0NIuwBNo2dQk",
        "outputId": "b0bdabd7-4d4a-406d-d3dc-24cc6f4eb72b"
      },
      "outputs": [
        {
          "name": "stdout",
          "output_type": "stream",
          "text": [
            "[('Name', 'Alice  '), ('Companies worked at', 'Clark'), ('Designation', 'AI  /  Machine  Learning'), ('Location', 'Delhi'), ('Years of Experience', '20+  '), ('Designation', 'Software  Engineer'), ('Companies worked at', 'Microsoft'), ('Companies worked at', 'Microsoft'), ('Companies worked at', 'Microsoft'), ('Companies worked at', 'Microsoft'), ('Companies worked at', 'Microsoft'), ('College Name', 'Indian  Institute  of  Technology'), ('Graduation Year', '2001'), ('Skills', 'Machine  Learning,  Natural  Language  Processing,  and  Big  Data  Handling')]\n",
            "__________________________________________________\n",
            "[('Companies worked at', 'Microsoft'), ('Companies worked at', 'Microsoft'), ('Companies worked at', 'Microsoft'), ('Companies worked at', 'Microsoft'), ('Companies worked at', 'Microsoft')]\n"
          ]
        }
      ],
      "source": [
        "def parse_cv(Cv):\n",
        "    import fitz\n",
        "    try:\n",
        "        doc = fitz.open(Cv)\n",
        "        text = ''\n",
        "        for page in doc:\n",
        "            text += page.get_text()\n",
        "\n",
        "        text = text.strip()\n",
        "        text = \"  \".join(text.split())\n",
        "\n",
        "        doc = nlp(text)\n",
        "        output = []\n",
        "        for ent in doc.ents:\n",
        "            output.append((ent.label_, ent.text))\n",
        "        return output\n",
        "    except Exception as e:\n",
        "        print(\"Error:\", e)\n",
        "        return None\n",
        "\n",
        "def search_parameter(output, parameter):\n",
        "    if output is None:\n",
        "        print(\"No output to search. Please check if the CV file is valid.\")\n",
        "        return []\n",
        "\n",
        "    found_items = []\n",
        "    for label, text in output:\n",
        "        if parameter.lower() in text.lower():\n",
        "            found_items.append((label, text))\n",
        "    return found_items\n",
        "\n",
        "# Example usage\n",
        "output = parse_cv(\"/Users/slash/Desktop/ATS project Code/Alice_Clark_CV.pdf\")\n",
        "search_result = search_parameter(output, \"Microsoft\")\n",
        "print(output)\n",
        "print(\"__________________________________________________\")\n",
        "print(search_result)\n"
      ]
    },
    {
      "cell_type": "code",
      "execution_count": 13,
      "metadata": {
        "colab": {
          "base_uri": "https://localhost:8080/"
        },
        "id": "2_ncO1gF5jND",
        "outputId": "b28075a2-1d5e-4c53-960e-976a876b92ce"
      },
      "outputs": [
        {
          "name": "stdout",
          "output_type": "stream",
          "text": [
            "Search Result: [('Companies worked at', 'Microsoft'), ('Companies worked at', 'Microsoft'), ('Companies worked at', 'Microsoft'), ('Companies worked at', 'Microsoft'), ('Companies worked at', 'Microsoft')]\n",
            "Number of occurrences: 5\n"
          ]
        }
      ],
      "source": [
        "def parse_cv(Cv):\n",
        "    import fitz\n",
        "    try:\n",
        "        doc = fitz.open(Cv)\n",
        "        text = ''\n",
        "        for page in doc:\n",
        "            text += page.get_text()\n",
        "\n",
        "        text = text.strip()\n",
        "        text = \"  \".join(text.split())\n",
        "\n",
        "        doc = nlp(text)\n",
        "        output = []\n",
        "        for ent in doc.ents:\n",
        "            output.append((ent.label_, ent.text))\n",
        "        return output\n",
        "    except Exception as e:\n",
        "        print(\"Error:\", e)\n",
        "        return None\n",
        "\n",
        "def search_parameter(output, parameter):\n",
        "    if output is None:\n",
        "        print(\"No output to search. Please check if the CV file is valid.\")\n",
        "        return [], 0\n",
        "\n",
        "    found_items = []\n",
        "    count = 0\n",
        "    for label, text in output:\n",
        "        if parameter.lower() in text.lower():\n",
        "            found_items.append((label, text))\n",
        "            count += 1\n",
        "    return found_items, count\n",
        "\n",
        "# Example usage\n",
        "output = parse_cv(\"/Users/slash/Desktop/ATS project Code/Alice_Clark_CV.pdf\")\n",
        "search_result, count = search_parameter(output, \"Microsoft\")\n",
        "print(\"Search Result:\", search_result)\n",
        "print(\"Number of occurrences:\", count)\n"
      ]
    },
    {
      "cell_type": "code",
      "execution_count": 14,
      "metadata": {
        "colab": {
          "base_uri": "https://localhost:8080/"
        },
        "id": "8OEW2NSj6ibp",
        "outputId": "f30b109b-0b09-45ea-adf5-52e427df984d"
      },
      "outputs": [
        {
          "name": "stdout",
          "output_type": "stream",
          "text": [
            "Search Result: [('Companies worked at', 'Microsoft'), ('Companies worked at', 'Microsoft'), ('Companies worked at', 'Microsoft'), ('Companies worked at', 'Microsoft'), ('Companies worked at', 'Microsoft')]\n",
            "Number of occurrences: 5\n",
            "________________________________________________________________________________________________________________________________________________________________________________________________________________________________________________________________________________________________________________________________________________________________________________________________________________________________________________________________________________________________________________________________________________________________________________________________________________________________________________________________________________________________________________________________________________________________________________________________________________________________________________________________________________________________________________________________________________________________________________________________________________________________________ \n",
            "\n",
            "Search Result: [('Companies worked at', 'Microsoft'), ('Companies worked at', 'Microsoft'), ('Companies worked at', 'Microsoft'), ('Companies worked at', 'Microsoft'), ('Companies worked at', 'Microsoft')]\n",
            "Number of occurrences: 25\n"
          ]
        }
      ],
      "source": [
        "def parse_cv(Cv):\n",
        "    import fitz\n",
        "    try:\n",
        "        doc = fitz.open(Cv)\n",
        "        text = ''\n",
        "        for page in doc:\n",
        "            text += page.get_text()\n",
        "\n",
        "        text = text.strip()\n",
        "        text = \"  \".join(text.split())\n",
        "\n",
        "        doc = nlp(text)\n",
        "        output = []\n",
        "        for ent in doc.ents:\n",
        "            output.append((ent.label_, ent.text))\n",
        "        return output\n",
        "    except Exception as e:\n",
        "        print(\"Error:\", e)\n",
        "        return None\n",
        "\n",
        "def search_parameter(output, parameter, value):\n",
        "    if output is None:\n",
        "        print(\"No output to search. Please check if the CV file is valid.\")\n",
        "        return [], 0\n",
        "\n",
        "    found_items = []\n",
        "    count = 0\n",
        "    for label, text in output:\n",
        "        if parameter.lower() in text.lower():\n",
        "            found_items.append((label, text))\n",
        "            count += value\n",
        "    return found_items, count\n",
        "\n",
        "# Example usage\n",
        "output = parse_cv(\"/Users/slash/Desktop/ATS project Code/Alice_Clark_CV.pdf\")\n",
        "\n",
        "search_result, count = search_parameter(output, \"Microsoft\", 1)  # Increment count by 1\n",
        "print(\"Search Result:\", search_result)\n",
        "print(\"Number of occurrences:\", count)\n",
        "\n",
        "print(\"_\"*1000,\"\\n\")\n",
        "\n",
        "search_result, count = search_parameter(output, \"Microsoft\", 5)  # Increment count by 5\n",
        "print(\"Search Result:\", search_result)\n",
        "print(\"Number of occurrences:\", count)\n"
      ]
    },
    {
      "cell_type": "code",
      "execution_count": 16,
      "metadata": {
        "id": "fyvSzzlF4uoy"
      },
      "outputs": [
        {
          "ename": "NameError",
          "evalue": "name 'model' is not defined",
          "output_type": "error",
          "traceback": [
            "\u001b[0;31m---------------------------------------------------------------------------\u001b[0m",
            "\u001b[0;31mNameError\u001b[0m                                 Traceback (most recent call last)",
            "Cell \u001b[0;32mIn[16], line 2\u001b[0m\n\u001b[1;32m      1\u001b[0m \u001b[38;5;28;01mfrom\u001b[39;00m \u001b[38;5;21;01mtensorflow\u001b[39;00m\u001b[38;5;21;01m.\u001b[39;00m\u001b[38;5;21;01mkeras\u001b[39;00m\u001b[38;5;21;01m.\u001b[39;00m\u001b[38;5;21;01mmodels\u001b[39;00m \u001b[38;5;28;01mimport\u001b[39;00m load_model\n\u001b[0;32m----> 2\u001b[0m \u001b[43mmodel\u001b[49m\u001b[38;5;241m.\u001b[39msave(\u001b[38;5;124m'\u001b[39m\u001b[38;5;124m/Users/slash/Desktop/ATS project Code/saved models/sub.f5\u001b[39m\u001b[38;5;124m'\u001b[39m)\n",
            "\u001b[0;31mNameError\u001b[0m: name 'model' is not defined"
          ]
        }
      ],
      "source": [
        "from tensorflow.keras.models import load_model\n",
        "model.save('/Users/slash/Desktop/ATS project Code/saved models/sub.f5')"
      ]
    },
    {
      "cell_type": "code",
      "execution_count": 6,
      "metadata": {},
      "outputs": [
        {
          "name": "stderr",
          "output_type": "stream",
          "text": [
            "huggingface/tokenizers: The current process just got forked, after parallelism has already been used. Disabling parallelism to avoid deadlocks...\n",
            "To disable this warning, you can either:\n",
            "\t- Avoid using `tokenizers` before the fork if possible\n",
            "\t- Explicitly set the environment variable TOKENIZERS_PARALLELISM=(true | false)\n"
          ]
        },
        {
          "name": "stdout",
          "output_type": "stream",
          "text": [
            "Requirement already satisfied: h5py in /opt/homebrew/lib/python3.11/site-packages (3.10.0)\n",
            "Requirement already satisfied: numpy>=1.17.3 in /opt/homebrew/lib/python3.11/site-packages (from h5py) (1.26.1)\n",
            "Note: you may need to restart the kernel to use updated packages.\n",
            "Name     ->>>>>> Alice  \n",
            "Companies worked at     ->>>>>> Clark\n",
            "Designation     ->>>>>> AI  /  Machine  Learning\n",
            "Location     ->>>>>> Delhi\n",
            "Years of Experience     ->>>>>> 20+  \n",
            "Designation     ->>>>>> Software  Engineer\n",
            "Companies worked at     ->>>>>> Microsoft\n",
            "Companies worked at     ->>>>>> Microsoft\n",
            "Companies worked at     ->>>>>> Microsoft\n",
            "Companies worked at     ->>>>>> Microsoft\n",
            "Companies worked at     ->>>>>> Microsoft\n",
            "College Name     ->>>>>> Indian  Institute  of  Technology\n",
            "Graduation Year     ->>>>>> 2001\n",
            "Skills     ->>>>>> Machine  Learning,  Natural  Language  Processing,  and  Big  Data  Handling\n"
          ]
        }
      ],
      "source": [
        "# Install h5py library if not already installed\n",
        "%pip install h5py\n",
        "\n",
        "import h5py\n",
        "import spacy\n",
        "\n",
        "# Load the spaCy model\n",
        "nlp = spacy.load(\"en_pipeline\")\n",
        "\n",
        "# Define the parse_cv function\n",
        "def parse_cv(Cv, h5_file_path):\n",
        "    import fitz\n",
        "    doc = fitz.open(Cv)\n",
        "    text = ''\n",
        "    for page in doc:\n",
        "        text = text + str(page.get_text())\n",
        "\n",
        "    text = text.strip()\n",
        "    text = \"  \".join(text.split())\n",
        "\n",
        "    doc = nlp(text)\n",
        "    \n",
        "    # Prepare data for saving\n",
        "    entities = [(ent.label_, ent.text) for ent in doc.ents]\n",
        "    \n",
        "    # Create and write to an HDF5 file\n",
        "    with h5py.File(h5_file_path, 'w') as h5file:\n",
        "        h5file.create_dataset('entities', data=entities)\n",
        "    \n",
        "    # Print entities\n",
        "    for label, entity_text in entities:\n",
        "        print(label, \"    ->>>>>>\", entity_text)\n",
        "    \n",
        "    return entities\n",
        "\n",
        "# Example usage\n",
        "# parse_cv('path_to_cv_file.pdf', 'output_entities.h5')\n",
        "output = parse_cv(\"/Users/slash/Desktop/ATS project Code/Alice_Clark_CV.pdf\",\"/Users/slash/Desktop/ATS project Code/saved models/Model_Spacy.h5\")\n",
        "\n"
      ]
    },
    {
      "cell_type": "code",
      "execution_count": 12,
      "metadata": {},
      "outputs": [
        {
          "name": "stderr",
          "output_type": "stream",
          "text": [
            "huggingface/tokenizers: The current process just got forked, after parallelism has already been used. Disabling parallelism to avoid deadlocks...\n",
            "To disable this warning, you can either:\n",
            "\t- Avoid using `tokenizers` before the fork if possible\n",
            "\t- Explicitly set the environment variable TOKENIZERS_PARALLELISM=(true | false)\n"
          ]
        },
        {
          "name": "stdout",
          "output_type": "stream",
          "text": [
            "Requirement already satisfied: h5py in /opt/homebrew/lib/python3.11/site-packages (3.10.0)\n",
            "Requirement already satisfied: numpy>=1.17.3 in /opt/homebrew/lib/python3.11/site-packages (from h5py) (1.26.1)\n",
            "Note: you may need to restart the kernel to use updated packages.\n",
            "Name     ->>>>>> Alice  \n",
            "Companies worked at     ->>>>>> Clark\n",
            "Designation     ->>>>>> AI  /  Machine  Learning\n",
            "Location     ->>>>>> Delhi\n",
            "Years of Experience     ->>>>>> 20+  \n",
            "Designation     ->>>>>> Software  Engineer\n",
            "Companies worked at     ->>>>>> Microsoft\n",
            "Companies worked at     ->>>>>> Microsoft\n",
            "Companies worked at     ->>>>>> Microsoft\n",
            "Companies worked at     ->>>>>> Microsoft\n",
            "Companies worked at     ->>>>>> Microsoft\n",
            "College Name     ->>>>>> Indian  Institute  of  Technology\n",
            "Graduation Year     ->>>>>> 2001\n",
            "Skills     ->>>>>> Machine  Learning,  Natural  Language  Processing,  and  Big  Data  Handling\n"
          ]
        }
      ],
      "source": [
        "# Install h5py library if not already installed\n",
        "%pip install h5py\n",
        "\n",
        "import h5py\n",
        "import spacy\n",
        "\n",
        "# Load the spaCy model\n",
        "nlp = spacy.load(\"en_pipeline\")\n",
        "\n",
        "# Define the parse_cv function\n",
        "def parse_cv(Cv, h5_file_path):\n",
        "    import fitz\n",
        "    doc = fitz.open(Cv)\n",
        "    text = ''\n",
        "    for page in doc:\n",
        "        text = text + str(page.get_text())\n",
        "\n",
        "    text = text.strip()\n",
        "    text = \"  \".join(text.split())\n",
        "\n",
        "    doc = nlp(text)\n",
        "    \n",
        "    # Prepare data for saving\n",
        "    entities = [(ent.label_, ent.text) for ent in doc.ents]\n",
        "    \n",
        "    # Create and write to an HDF5 file\n",
        "    with h5py.File(h5_file_path, 'w') as h5file:\n",
        "        h5file.create_dataset('entities', data=entities)\n",
        "    \n",
        "    # Print entities\n",
        "    for label, entity_text in entities:\n",
        "        print(label, \"    ->>>>>>\", entity_text)\n",
        "    \n",
        "    return entities\n",
        "\n",
        "# Example usage\n",
        "# parse_cv('path_to_cv_file.pdf', 'output_entities.h5')\n",
        "output = parse_cv(\"/Users/slash/Desktop/ATS project Code/Alice_Clark_CV.pdf\",\"/Users/slash/Desktop/ATS project Code/saved models/Model_Spacy.h5\")"
      ]
    },
    {
      "cell_type": "code",
      "execution_count": 13,
      "metadata": {},
      "outputs": [
        {
          "data": {
            "text/plain": [
              "[('Name', 'Alice  '),\n",
              " ('Companies worked at', 'Clark'),\n",
              " ('Designation', 'AI  /  Machine  Learning'),\n",
              " ('Location', 'Delhi'),\n",
              " ('Years of Experience', '20+  '),\n",
              " ('Designation', 'Software  Engineer'),\n",
              " ('Companies worked at', 'Microsoft'),\n",
              " ('Companies worked at', 'Microsoft'),\n",
              " ('Companies worked at', 'Microsoft'),\n",
              " ('Companies worked at', 'Microsoft'),\n",
              " ('Companies worked at', 'Microsoft'),\n",
              " ('College Name', 'Indian  Institute  of  Technology'),\n",
              " ('Graduation Year', '2001'),\n",
              " ('Skills',\n",
              "  'Machine  Learning,  Natural  Language  Processing,  and  Big  Data  Handling')]"
            ]
          },
          "execution_count": 13,
          "metadata": {},
          "output_type": "execute_result"
        }
      ],
      "source": [
        "output"
      ]
    },
    {
      "cell_type": "code",
      "execution_count": null,
      "metadata": {},
      "outputs": [],
      "source": []
    }
  ],
  "metadata": {
    "accelerator": "GPU",
    "colab": {
      "gpuType": "T4",
      "provenance": []
    },
    "kernelspec": {
      "display_name": "Python 3",
      "name": "python3"
    },
    "language_info": {
      "codemirror_mode": {
        "name": "ipython",
        "version": 3
      },
      "file_extension": ".py",
      "mimetype": "text/x-python",
      "name": "python",
      "nbconvert_exporter": "python",
      "pygments_lexer": "ipython3",
      "version": "3.11.6"
    }
  },
  "nbformat": 4,
  "nbformat_minor": 0
}
